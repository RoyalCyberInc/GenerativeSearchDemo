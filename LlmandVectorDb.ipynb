{
  "cells": [
    {
      "cell_type": "markdown",
      "source": [
        "#Installing Dependencies below"
      ],
      "metadata": {
        "id": "H9HQtlvlWdjl"
      },
      "id": "H9HQtlvlWdjl"
    },
    {
      "cell_type": "code",
      "execution_count": null,
      "metadata": {
        "colab": {
          "base_uri": "https://localhost:8080/"
        },
        "id": "204f9226",
        "outputId": "44d554eb-5948-464b-d23e-9d0412d196c1"
      },
      "outputs": [
        {
          "output_type": "stream",
          "name": "stdout",
          "text": [
            "Looking in indexes: https://pypi.org/simple, https://us-python.pkg.dev/colab-wheels/public/simple/\n",
            "Collecting weaviate-client\n",
            "  Downloading weaviate_client-3.19.2-py3-none-any.whl (99 kB)\n",
            "\u001b[2K     \u001b[90m━━━━━━━━━━━━━━━━━━━━━━━━━━━━━━━━━━━━━━━━\u001b[0m \u001b[32m99.8/99.8 kB\u001b[0m \u001b[31m8.2 MB/s\u001b[0m eta \u001b[36m0:00:00\u001b[0m\n",
            "\u001b[?25hCollecting requests<2.29.0,>=2.28.0 (from weaviate-client)\n",
            "  Downloading requests-2.28.2-py3-none-any.whl (62 kB)\n",
            "\u001b[2K     \u001b[90m━━━━━━━━━━━━━━━━━━━━━━━━━━━━━━━━━━━━━━━━\u001b[0m \u001b[32m62.8/62.8 kB\u001b[0m \u001b[31m5.1 MB/s\u001b[0m eta \u001b[36m0:00:00\u001b[0m\n",
            "\u001b[?25hCollecting validators<=0.21.0,>=0.18.2 (from weaviate-client)\n",
            "  Downloading validators-0.20.0.tar.gz (30 kB)\n",
            "  Preparing metadata (setup.py) ... \u001b[?25l\u001b[?25hdone\n",
            "Requirement already satisfied: tqdm<5.0.0,>=4.59.0 in /usr/local/lib/python3.10/dist-packages (from weaviate-client) (4.65.0)\n",
            "Collecting authlib>=1.1.0 (from weaviate-client)\n",
            "  Downloading Authlib-1.2.0-py2.py3-none-any.whl (214 kB)\n",
            "\u001b[2K     \u001b[90m━━━━━━━━━━━━━━━━━━━━━━━━━━━━━━━━━━━━━━\u001b[0m \u001b[32m214.8/214.8 kB\u001b[0m \u001b[31m11.3 MB/s\u001b[0m eta \u001b[36m0:00:00\u001b[0m\n",
            "\u001b[?25hRequirement already satisfied: cryptography>=3.2 in /usr/local/lib/python3.10/dist-packages (from authlib>=1.1.0->weaviate-client) (40.0.2)\n",
            "Requirement already satisfied: charset-normalizer<4,>=2 in /usr/local/lib/python3.10/dist-packages (from requests<2.29.0,>=2.28.0->weaviate-client) (2.0.12)\n",
            "Requirement already satisfied: idna<4,>=2.5 in /usr/local/lib/python3.10/dist-packages (from requests<2.29.0,>=2.28.0->weaviate-client) (3.4)\n",
            "Requirement already satisfied: urllib3<1.27,>=1.21.1 in /usr/local/lib/python3.10/dist-packages (from requests<2.29.0,>=2.28.0->weaviate-client) (1.26.15)\n",
            "Requirement already satisfied: certifi>=2017.4.17 in /usr/local/lib/python3.10/dist-packages (from requests<2.29.0,>=2.28.0->weaviate-client) (2022.12.7)\n",
            "Requirement already satisfied: decorator>=3.4.0 in /usr/local/lib/python3.10/dist-packages (from validators<=0.21.0,>=0.18.2->weaviate-client) (4.4.2)\n",
            "Requirement already satisfied: cffi>=1.12 in /usr/local/lib/python3.10/dist-packages (from cryptography>=3.2->authlib>=1.1.0->weaviate-client) (1.15.1)\n",
            "Requirement already satisfied: pycparser in /usr/local/lib/python3.10/dist-packages (from cffi>=1.12->cryptography>=3.2->authlib>=1.1.0->weaviate-client) (2.21)\n",
            "Building wheels for collected packages: validators\n",
            "  Building wheel for validators (setup.py) ... \u001b[?25l\u001b[?25hdone\n",
            "  Created wheel for validators: filename=validators-0.20.0-py3-none-any.whl size=19579 sha256=8b24c577f25d1d794f1dbe49377fff2e75c465ba6ef9e5dffb45126230efb648\n",
            "  Stored in directory: /root/.cache/pip/wheels/f2/ed/dd/d3a556ad245ef9dc570c6bcd2f22886d17b0b408dd3bbb9ac3\n",
            "Successfully built validators\n",
            "Installing collected packages: validators, requests, authlib, weaviate-client\n",
            "  Attempting uninstall: requests\n",
            "    Found existing installation: requests 2.27.1\n",
            "    Uninstalling requests-2.27.1:\n",
            "      Successfully uninstalled requests-2.27.1\n",
            "\u001b[31mERROR: pip's dependency resolver does not currently take into account all the packages that are installed. This behaviour is the source of the following dependency conflicts.\n",
            "google-colab 1.0.0 requires requests==2.27.1, but you have requests 2.28.2 which is incompatible.\u001b[0m\u001b[31m\n",
            "\u001b[0mSuccessfully installed authlib-1.2.0 requests-2.28.2 validators-0.20.0 weaviate-client-3.19.2\n"
          ]
        }
      ],
      "source": [
        "# You need to install the python Weaviate client\n",
        "!pip install weaviate-client"
      ],
      "id": "204f9226"
    },
    {
      "cell_type": "markdown",
      "metadata": {
        "id": "5da93764"
      },
      "source": [
        "## Download data\n",
        "Download data from [drive](https://drive.google.com/file/d/1_sBvE9RKYUSHGSfJomiLf-2d7O6SUIoS/view?usp=sharing)"
      ],
      "id": "5da93764"
    },
    {
      "cell_type": "markdown",
      "metadata": {
        "id": "fe10c32b"
      },
      "source": [
        "## Configure the Weaviate Cloud Instance\n",
        "### Free 14 day sandbox here: https://console.weaviate.cloud/"
      ],
      "id": "fe10c32b"
    },
    {
      "cell_type": "code",
      "execution_count": null,
      "metadata": {
        "colab": {
          "base_uri": "https://localhost:8080/"
        },
        "id": "b6bfb80e",
        "outputId": "6d5d32b2-415a-4df3-c2fc-e9907230b327"
      },
      "outputs": [
        {
          "output_type": "execute_result",
          "data": {
            "text/plain": [
              "True"
            ]
          },
          "metadata": {},
          "execution_count": 5
        }
      ],
      "source": [
        "import os\n",
        "import weaviate\n",
        "# from wcs_key import wcs_token\n",
        "\n",
        "auth_config = weaviate.auth.AuthApiKey(api_key='H8reCh04WkusS4xqH6zPMkySpv1BdeY6Cbl2')  # Replace w/ your API Key for the Weaviate instance\n",
        "cohere_api_key = 'OJAnzDpMT13cbyFHgO02C5rCR3eIaDHo4THRDtuN' # Replace w/ your API Key\n",
        "client = weaviate.Client(\n",
        "    url=\"https://my-sandbox-cluster-6qkmg0xu.weaviate.network\",\n",
        "    auth_client_secret=auth_config,  #weaivate instance API key\n",
        "    additional_headers={\n",
        "        \"X-Cohere-Api-Key\": cohere_api_key,   # Replace w/ your Cohere Key \n",
        "    }\n",
        ")\n",
        "client.is_ready()"
      ],
      "id": "b6bfb80e"
    },
    {
      "cell_type": "code",
      "execution_count": null,
      "metadata": {
        "colab": {
          "base_uri": "https://localhost:8080/"
        },
        "id": "Hkod1_jtYg3B",
        "outputId": "bc9f7a43-49ba-410c-be28-00f341a14123"
      },
      "outputs": [
        {
          "output_type": "stream",
          "name": "stdout",
          "text": [
            "Mounted at /content/drive\n"
          ]
        }
      ],
      "source": [
        "from google.colab import drive\n",
        "drive.mount('/content/drive')"
      ],
      "id": "Hkod1_jtYg3B"
    },
    {
      "cell_type": "markdown",
      "metadata": {
        "id": "2253c42a"
      },
      "source": [
        "## Visualize the Wiki data"
      ],
      "id": "2253c42a"
    },
    {
      "cell_type": "code",
      "execution_count": null,
      "metadata": {
        "id": "61048edc"
      },
      "outputs": [],
      "source": [
        "import pandas as pd\n",
        "df = pd.read_parquet('/content/drive/MyDrive/testlang/wiki_simple_100k.parquet')"
      ],
      "id": "61048edc"
    },
    {
      "cell_type": "code",
      "execution_count": null,
      "metadata": {
        "colab": {
          "base_uri": "https://localhost:8080/",
          "height": 423
        },
        "id": "6fb31bb8",
        "outputId": "f5d57be2-88a0-4c5f-be2f-b661deca17ae"
      },
      "outputs": [
        {
          "output_type": "execute_result",
          "data": {
            "text/plain": [
              "          id                      title  \\\n",
              "11951  11951                      Texas   \n",
              "77538  77538  Luiz Inácio Lula da Silva   \n",
              "59188  59188              Jeremy Corbyn   \n",
              "20215  20215             Justin Trudeau   \n",
              "97498  97498             St James' Park   \n",
              "\n",
              "                                                    text  \\\n",
              "11951  Texas has the second largest economy in the Un...   \n",
              "77538  In 2017, Lula announced he would run as the Wo...   \n",
              "59188  Many people supported Corbyn to become Prime M...   \n",
              "20215  On March 12, 2020, Trudeau and his wife Sophie...   \n",
              "97498  The stadium was used by many great musicians l...   \n",
              "\n",
              "                                                  url  wiki_id       views  \\\n",
              "11951    https://simple.wikipedia.org/wiki?curid=5324     5324  307.580627   \n",
              "77538   https://simple.wikipedia.org/wiki?curid=36780    36780   44.442642   \n",
              "59188  https://simple.wikipedia.org/wiki?curid=513896   513896   64.070770   \n",
              "20215  https://simple.wikipedia.org/wiki?curid=433802   433802  206.190018   \n",
              "97498  https://simple.wikipedia.org/wiki?curid=130121   130121   30.905069   \n",
              "\n",
              "       paragraph_id  langs                                                emb  \n",
              "11951            12    203  [0.12698444724082947, 0.16471748054027557, 0.0...  \n",
              "77538            16    105  [0.06689333915710449, -0.15224608778953552, -0...  \n",
              "59188            39     65  [-0.10770057886838913, 0.04025179147720337, 0....  \n",
              "20215            12    108  [-0.1520741879940033, 0.45795899629592896, -0....  \n",
              "97498             2      0  [0.21779724955558777, -0.26861095428466797, -0...  "
            ],
            "text/html": [
              "\n",
              "  <div id=\"df-06d582ea-1d24-4416-b1b1-029abe62f678\">\n",
              "    <div class=\"colab-df-container\">\n",
              "      <div>\n",
              "<style scoped>\n",
              "    .dataframe tbody tr th:only-of-type {\n",
              "        vertical-align: middle;\n",
              "    }\n",
              "\n",
              "    .dataframe tbody tr th {\n",
              "        vertical-align: top;\n",
              "    }\n",
              "\n",
              "    .dataframe thead th {\n",
              "        text-align: right;\n",
              "    }\n",
              "</style>\n",
              "<table border=\"1\" class=\"dataframe\">\n",
              "  <thead>\n",
              "    <tr style=\"text-align: right;\">\n",
              "      <th></th>\n",
              "      <th>id</th>\n",
              "      <th>title</th>\n",
              "      <th>text</th>\n",
              "      <th>url</th>\n",
              "      <th>wiki_id</th>\n",
              "      <th>views</th>\n",
              "      <th>paragraph_id</th>\n",
              "      <th>langs</th>\n",
              "      <th>emb</th>\n",
              "    </tr>\n",
              "  </thead>\n",
              "  <tbody>\n",
              "    <tr>\n",
              "      <th>11951</th>\n",
              "      <td>11951</td>\n",
              "      <td>Texas</td>\n",
              "      <td>Texas has the second largest economy in the Un...</td>\n",
              "      <td>https://simple.wikipedia.org/wiki?curid=5324</td>\n",
              "      <td>5324</td>\n",
              "      <td>307.580627</td>\n",
              "      <td>12</td>\n",
              "      <td>203</td>\n",
              "      <td>[0.12698444724082947, 0.16471748054027557, 0.0...</td>\n",
              "    </tr>\n",
              "    <tr>\n",
              "      <th>77538</th>\n",
              "      <td>77538</td>\n",
              "      <td>Luiz Inácio Lula da Silva</td>\n",
              "      <td>In 2017, Lula announced he would run as the Wo...</td>\n",
              "      <td>https://simple.wikipedia.org/wiki?curid=36780</td>\n",
              "      <td>36780</td>\n",
              "      <td>44.442642</td>\n",
              "      <td>16</td>\n",
              "      <td>105</td>\n",
              "      <td>[0.06689333915710449, -0.15224608778953552, -0...</td>\n",
              "    </tr>\n",
              "    <tr>\n",
              "      <th>59188</th>\n",
              "      <td>59188</td>\n",
              "      <td>Jeremy Corbyn</td>\n",
              "      <td>Many people supported Corbyn to become Prime M...</td>\n",
              "      <td>https://simple.wikipedia.org/wiki?curid=513896</td>\n",
              "      <td>513896</td>\n",
              "      <td>64.070770</td>\n",
              "      <td>39</td>\n",
              "      <td>65</td>\n",
              "      <td>[-0.10770057886838913, 0.04025179147720337, 0....</td>\n",
              "    </tr>\n",
              "    <tr>\n",
              "      <th>20215</th>\n",
              "      <td>20215</td>\n",
              "      <td>Justin Trudeau</td>\n",
              "      <td>On March 12, 2020, Trudeau and his wife Sophie...</td>\n",
              "      <td>https://simple.wikipedia.org/wiki?curid=433802</td>\n",
              "      <td>433802</td>\n",
              "      <td>206.190018</td>\n",
              "      <td>12</td>\n",
              "      <td>108</td>\n",
              "      <td>[-0.1520741879940033, 0.45795899629592896, -0....</td>\n",
              "    </tr>\n",
              "    <tr>\n",
              "      <th>97498</th>\n",
              "      <td>97498</td>\n",
              "      <td>St James' Park</td>\n",
              "      <td>The stadium was used by many great musicians l...</td>\n",
              "      <td>https://simple.wikipedia.org/wiki?curid=130121</td>\n",
              "      <td>130121</td>\n",
              "      <td>30.905069</td>\n",
              "      <td>2</td>\n",
              "      <td>0</td>\n",
              "      <td>[0.21779724955558777, -0.26861095428466797, -0...</td>\n",
              "    </tr>\n",
              "  </tbody>\n",
              "</table>\n",
              "</div>\n",
              "      <button class=\"colab-df-convert\" onclick=\"convertToInteractive('df-06d582ea-1d24-4416-b1b1-029abe62f678')\"\n",
              "              title=\"Convert this dataframe to an interactive table.\"\n",
              "              style=\"display:none;\">\n",
              "        \n",
              "  <svg xmlns=\"http://www.w3.org/2000/svg\" height=\"24px\"viewBox=\"0 0 24 24\"\n",
              "       width=\"24px\">\n",
              "    <path d=\"M0 0h24v24H0V0z\" fill=\"none\"/>\n",
              "    <path d=\"M18.56 5.44l.94 2.06.94-2.06 2.06-.94-2.06-.94-.94-2.06-.94 2.06-2.06.94zm-11 1L8.5 8.5l.94-2.06 2.06-.94-2.06-.94L8.5 2.5l-.94 2.06-2.06.94zm10 10l.94 2.06.94-2.06 2.06-.94-2.06-.94-.94-2.06-.94 2.06-2.06.94z\"/><path d=\"M17.41 7.96l-1.37-1.37c-.4-.4-.92-.59-1.43-.59-.52 0-1.04.2-1.43.59L10.3 9.45l-7.72 7.72c-.78.78-.78 2.05 0 2.83L4 21.41c.39.39.9.59 1.41.59.51 0 1.02-.2 1.41-.59l7.78-7.78 2.81-2.81c.8-.78.8-2.07 0-2.86zM5.41 20L4 18.59l7.72-7.72 1.47 1.35L5.41 20z\"/>\n",
              "  </svg>\n",
              "      </button>\n",
              "      \n",
              "  <style>\n",
              "    .colab-df-container {\n",
              "      display:flex;\n",
              "      flex-wrap:wrap;\n",
              "      gap: 12px;\n",
              "    }\n",
              "\n",
              "    .colab-df-convert {\n",
              "      background-color: #E8F0FE;\n",
              "      border: none;\n",
              "      border-radius: 50%;\n",
              "      cursor: pointer;\n",
              "      display: none;\n",
              "      fill: #1967D2;\n",
              "      height: 32px;\n",
              "      padding: 0 0 0 0;\n",
              "      width: 32px;\n",
              "    }\n",
              "\n",
              "    .colab-df-convert:hover {\n",
              "      background-color: #E2EBFA;\n",
              "      box-shadow: 0px 1px 2px rgba(60, 64, 67, 0.3), 0px 1px 3px 1px rgba(60, 64, 67, 0.15);\n",
              "      fill: #174EA6;\n",
              "    }\n",
              "\n",
              "    [theme=dark] .colab-df-convert {\n",
              "      background-color: #3B4455;\n",
              "      fill: #D2E3FC;\n",
              "    }\n",
              "\n",
              "    [theme=dark] .colab-df-convert:hover {\n",
              "      background-color: #434B5C;\n",
              "      box-shadow: 0px 1px 3px 1px rgba(0, 0, 0, 0.15);\n",
              "      filter: drop-shadow(0px 1px 2px rgba(0, 0, 0, 0.3));\n",
              "      fill: #FFFFFF;\n",
              "    }\n",
              "  </style>\n",
              "\n",
              "      <script>\n",
              "        const buttonEl =\n",
              "          document.querySelector('#df-06d582ea-1d24-4416-b1b1-029abe62f678 button.colab-df-convert');\n",
              "        buttonEl.style.display =\n",
              "          google.colab.kernel.accessAllowed ? 'block' : 'none';\n",
              "\n",
              "        async function convertToInteractive(key) {\n",
              "          const element = document.querySelector('#df-06d582ea-1d24-4416-b1b1-029abe62f678');\n",
              "          const dataTable =\n",
              "            await google.colab.kernel.invokeFunction('convertToInteractive',\n",
              "                                                     [key], {});\n",
              "          if (!dataTable) return;\n",
              "\n",
              "          const docLinkHtml = 'Like what you see? Visit the ' +\n",
              "            '<a target=\"_blank\" href=https://colab.research.google.com/notebooks/data_table.ipynb>data table notebook</a>'\n",
              "            + ' to learn more about interactive tables.';\n",
              "          element.innerHTML = '';\n",
              "          dataTable['output_type'] = 'display_data';\n",
              "          await google.colab.output.renderOutput(dataTable, element);\n",
              "          const docLink = document.createElement('div');\n",
              "          docLink.innerHTML = docLinkHtml;\n",
              "          element.appendChild(docLink);\n",
              "        }\n",
              "      </script>\n",
              "    </div>\n",
              "  </div>\n",
              "  "
            ]
          },
          "metadata": {},
          "execution_count": 8
        }
      ],
      "source": [
        "df.sample(5)"
      ],
      "id": "6fb31bb8"
    },
    {
      "cell_type": "markdown",
      "metadata": {
        "id": "395b6edc"
      },
      "source": [
        "## Create Database Schema"
      ],
      "id": "395b6edc"
    },
    {
      "cell_type": "code",
      "execution_count": null,
      "metadata": {
        "colab": {
          "base_uri": "https://localhost:8080/"
        },
        "id": "dde8cb41",
        "outputId": "1e64665a-ffa8-47c7-836b-40ce1eb2b731"
      },
      "outputs": [
        {
          "output_type": "stream",
          "name": "stdout",
          "text": [
            "The schema has been created\n"
          ]
        }
      ],
      "source": [
        "# delete existing schema, (note, this will delete all your weaviate data)\n",
        "client.schema.delete_all()\n",
        "\n",
        "article_schema = {\n",
        "    \"class\": \"Article\",\n",
        "    \"description\": \"Wiki Article\",\n",
        "    \"vectorizer\": \"text2vec-cohere\",#multi-lingual\n",
        "    \"moduleConfig\": {\n",
        "        \"text2vec-cohere\": {\n",
        "            \"model\": \"multilingual-22-12\",\n",
        "            \"truncate\": \"RIGHT\"\n",
        "        },\n",
        "        \"generative-cohere\": {\n",
        "          \"model\": \"command-xlarge-nightly\", \n",
        "        }\n",
        "    },\n",
        "    \"vectorIndexConfig\": {\n",
        "        \"distance\": \"dot\"\n",
        "    },\n",
        "    \"properties\": [\n",
        "    {\n",
        "        \"name\": \"text\",\n",
        "        \"dataType\": [ \"text\" ],\n",
        "        \"description\": \"Article body\",\n",
        "        \"moduleConfig\": {\n",
        "            \"text2vec-cohere\": {\n",
        "                \"skip\": False,\n",
        "                \"vectorizePropertyName\": False\n",
        "            }\n",
        "        }\n",
        "    },\n",
        "    {\n",
        "        \"name\": \"title\",\n",
        "        \"dataType\": [ \"string\" ],\n",
        "        \"moduleConfig\": { \"text2vec-cohere\": { \"skip\": True } }\n",
        "    },\n",
        "    {\n",
        "        \"name\": \"url\",\n",
        "        \"dataType\": [ \"string\" ],\n",
        "        \"moduleConfig\": { \"text2vec-cohere\": { \"skip\": True } }\n",
        "    },\n",
        "    {\n",
        "        \"name\": \"wiki_id\",\n",
        "        \"dataType\": [ \"int\" ],\n",
        "        \"moduleConfig\": { \"text2vec-cohere\": { \"skip\": True } }\n",
        "    },\n",
        "    {\n",
        "        \"name\": \"views\",\n",
        "        \"dataType\": [ \"number\" ],\n",
        "        \"moduleConfig\": { \"text2vec-cohere\": { \"skip\": True } }\n",
        "    },\n",
        "    ]\n",
        "}\n",
        " \n",
        "# add the schema\n",
        "client.schema.create_class(article_schema)\n",
        " \n",
        "print(\"The schema has been created\")"
      ],
      "id": "dde8cb41"
    },
    {
      "cell_type": "markdown",
      "metadata": {
        "id": "a2a86fb4"
      },
      "source": [
        "## Batch and Add 100k Wikipedia Articles to Weaviate"
      ],
      "id": "a2a86fb4"
    },
    {
      "cell_type": "code",
      "execution_count": null,
      "metadata": {
        "colab": {
          "base_uri": "https://localhost:8080/"
        },
        "id": "5f4a984c",
        "outputId": "969afb33-d981-4119-bd86-e80eef8ad340"
      },
      "outputs": [
        {
          "output_type": "execute_result",
          "data": {
            "text/plain": [
              "<weaviate.batch.crud_batch.Batch at 0x7f5658d7e1d0>"
            ]
          },
          "metadata": {},
          "execution_count": 10
        }
      ],
      "source": [
        "### Step 1 - configure Weaviate Batch, which optimizes CRUD operations in bulk\n",
        "# - starting batch size of 100\n",
        "# - dynamically increase/decrease based on performance\n",
        "# - add timeout retries if something goes wrong\n",
        "\n",
        "client.batch.configure(\n",
        "    batch_size=100,\n",
        "    dynamic=True,\n",
        "    timeout_retries=3,\n",
        ")"
      ],
      "id": "5f4a984c"
    },
    {
      "cell_type": "code",
      "execution_count": null,
      "metadata": {
        "colab": {
          "base_uri": "https://localhost:8080/"
        },
        "id": "d92b1202",
        "outputId": "ad823100-431c-46e1-fc27-33b9250b76bf"
      },
      "outputs": [
        {
          "output_type": "stream",
          "name": "stdout",
          "text": [
            "Import 100000 / 100000\n",
            "Import complete\n"
          ]
        }
      ],
      "source": [
        "data = df[:100_000] # make sure it is not more than 100k objects\n",
        "\n",
        "counter=0\n",
        "\n",
        "with client.batch as batch:\n",
        "    for idx, item in data.iterrows():        \n",
        "        # print update message every 100 objects        \n",
        "        if (counter %100 == 0):\n",
        "            print(f\"Import {counter} / {len(data)} \", end=\"\\r\")\n",
        "\n",
        "        properties = {\n",
        "        \"text\": item[\"text\"],\n",
        "        \"title\": item[\"title\"],\n",
        "        \"url\": item[\"url\"],\n",
        "        \"views\": item[\"views\"],\n",
        "        \"wiki_id\": item[\"wiki_id\"]\n",
        "        }\n",
        "\n",
        "        vector = item[\"emb\"]\n",
        "\n",
        "        batch.add_data_object(properties, \"Article\", None, vector)\n",
        "        counter = counter+1\n",
        "    print(f\"Import {counter} / {len(data)}\")\n",
        "        \n",
        "print(\"Import complete\")"
      ],
      "id": "d92b1202"
    },
    {
      "cell_type": "code",
      "execution_count": null,
      "metadata": {
        "id": "249c4367",
        "colab": {
          "base_uri": "https://localhost:8080/"
        },
        "outputId": "058a4f49-820d-47ba-b9c5-a6eed91ce8f9"
      },
      "outputs": [
        {
          "output_type": "stream",
          "name": "stdout",
          "text": [
            "Object count:  [{'meta': {'count': 100000}}]\n"
          ]
        }
      ],
      "source": [
        "# Test that all data has loaded – get object count\n",
        "result = (\n",
        "    client.query.aggregate(\"Article\")\n",
        "    .with_fields(\"meta { count }\")\n",
        "    .do()\n",
        ")\n",
        "print(\"Object count: \", result[\"data\"][\"Aggregate\"][\"Article\"])"
      ],
      "id": "249c4367"
    },
    {
      "cell_type": "code",
      "execution_count": null,
      "metadata": {
        "id": "a004d241"
      },
      "outputs": [],
      "source": [
        "def semantic_search(query):\n",
        "    nearText = {\n",
        "        \"concepts\": [query],\n",
        "#         \"distance\": -139.0,\n",
        "    }\n",
        "\n",
        "    properties = [\n",
        "        \"text\", \"title\", \"url\", \"views\",\n",
        "        \"_additional {distance}\"\n",
        "    ]\n",
        "\n",
        "    response = (\n",
        "        client.query\n",
        "        .get(\"Article\", properties)\n",
        "        .with_near_text(nearText)\n",
        "        .with_limit(5)\n",
        "        .do()\n",
        "    )\n",
        "\n",
        "    result = response['data']['Get']['Article']\n",
        "\n",
        "    return result\n",
        "    \n",
        "def print_result(result):\n",
        "    for item in result:\n",
        "        print(f\"\\033[95m{item['title']} ({item['views']}) {item['_additional']['distance']}\\033[0m\")\n",
        "        print(f\"\\033[4m{item['url']}\\033[0m\")\n",
        "        print(item['text'])\n",
        "        print()"
      ],
      "id": "a004d241"
    },
    {
      "cell_type": "markdown",
      "metadata": {
        "id": "c1f4f3af"
      },
      "source": [
        "## Search through your data\n",
        "1. Vector Search\n",
        "2. Classic Word Search\n",
        "3. Hybrid Search\n",
        "4. Generative Search"
      ],
      "id": "c1f4f3af"
    },
    {
      "cell_type": "code",
      "execution_count": null,
      "metadata": {
        "colab": {
          "base_uri": "https://localhost:8080/"
        },
        "id": "556bda5c",
        "outputId": "f228b996-d24c-4bf9-e770-32bcc6b7bed8"
      },
      "outputs": [
        {
          "output_type": "stream",
          "name": "stdout",
          "text": [
            "Avocados have much more fat than most of the other fruits, but it's fat is healthy to eat (monounsaturated fat). Avocados have lots of potassium, B vitamins, and vitamin E and K. The Mexican food called guacamole is made of avocados. Many other foods are also made from avocado. Avocado is poisonous to some animals. Many animals will get very sick or die if they eat avocado. Avocado grows there where the climate is a little windy.\n"
          ]
        }
      ],
      "source": [
        "def word_search(word):\n",
        "    where_filter = {\n",
        "      \"path\": [\"title\"],\n",
        "      \"operator\": \"Like\", #\n",
        "      \"valueString\": word,\n",
        "    }\n",
        "\n",
        "    query_result = (\n",
        "      client.query\n",
        "      .get(\"Article\", [\"title\", \"text\"])\n",
        "      .with_where(where_filter)\n",
        "      .do()\n",
        "    )\n",
        "    \n",
        "    return query_result['data']['Get']['Article'][0]['text']\n",
        "\n",
        "print(word_search(\"Avocado\"))"
      ],
      "id": "556bda5c"
    },
    {
      "cell_type": "code",
      "execution_count": null,
      "metadata": {
        "id": "a9366c46",
        "colab": {
          "base_uri": "https://localhost:8080/",
          "height": 70
        },
        "outputId": "c2fcef37-e7db-4144-f09f-be630aaa662d"
      },
      "outputs": [
        {
          "output_type": "execute_result",
          "data": {
            "text/plain": [
              "'A person that does data science is called a data scientist. Data scientists solve complicated data problems using mathematics, statistics and computer science, although very good skill in these subjects are not required. However, a data scientist is most likely to be an expert in only one or two of these disciplines, meaning that cross disciplinary teams can be a key component of data science.'"
            ],
            "application/vnd.google.colaboratory.intrinsic+json": {
              "type": "string"
            }
          },
          "metadata": {},
          "execution_count": 16
        }
      ],
      "source": [
        "word_search(\"Data science\")"
      ],
      "id": "a9366c46"
    },
    {
      "cell_type": "markdown",
      "metadata": {
        "id": "4b2d8663"
      },
      "source": [
        "## Semantic(Vector) Search"
      ],
      "id": "4b2d8663"
    },
    {
      "cell_type": "code",
      "execution_count": null,
      "metadata": {
        "id": "2b2aaadb",
        "colab": {
          "base_uri": "https://localhost:8080/"
        },
        "outputId": "3a4f9298-c52a-4bd4-d210-7518cbca88c8"
      },
      "outputs": [
        {
          "output_type": "stream",
          "name": "stdout",
          "text": [
            "\u001b[95mPython (programming language) (398.0628356933594) -147.3399\u001b[0m\n",
            "\u001b[4mhttps://simple.wikipedia.org/wiki?curid=44678\u001b[0m\n",
            "Python has become one of the most famous programming languages on the world as of late. It's utilized in all that from AI to building sites and programming testing. It tends to be utilized by engineers and non-designers the same.\n",
            "\n",
            "\u001b[95mC++ (194.4631805419922) -146.67413\u001b[0m\n",
            "\u001b[4mhttps://simple.wikipedia.org/wiki?curid=7535\u001b[0m\n",
            "C++ (pronounced \"see plus plus\") is a computer programming language based on C. It was created for writing programs for many different purposes. In the 1990s, C++ became one of the most used programming languages in the world. Like C, C++ uses manual memory management (unlike most mainstream languages, where memory management is automatic), while the syntax usually used for it is different.\n",
            "\n",
            "\u001b[95mCentral processing unit (575.814453125) -146.48747\u001b[0m\n",
            "\u001b[4mhttps://simple.wikipedia.org/wiki?curid=17376\u001b[0m\n",
            "Machine code is just a sequence of 0s and 1s, which makes it difficult for humans to read it. To make it more readable, machine code programs are usually written in \"assembly language\". Assembly language uses text instead of 0s and 1s: You might write \"LD A,0\" to load the value 0 into register A for example. A program that translates assembly language into machine code is called an \"assembler\".\n",
            "\n",
            "\u001b[95mPython (programming language) (398.0628356933594) -146.34964\u001b[0m\n",
            "\u001b[4mhttps://simple.wikipedia.org/wiki?curid=44678\u001b[0m\n",
            "Because of its corporate sponsorship and huge steady local area of python, python has amazing libraries that you can use to choose and save your time and exertion on the underlying pattern of improvement. There are additionally heaps of cloud media benefits that get stage support through library-like apparatuses, which can be very gainful.\n",
            "\n",
            "\u001b[95mProgramming language (574.8416748046875) -146.30504\u001b[0m\n",
            "\u001b[4mhttps://simple.wikipedia.org/wiki?curid=6362\u001b[0m\n",
            "Object-oriented programming is used in many of today's most popular programming languages, such as Java, C#, Objective-C, C++, Python, Ruby, Javascript, and ActionScript.\n",
            "\n"
          ]
        }
      ],
      "source": [
        "query_result = semantic_search('a programming language used for machine learning')\n",
        "print_result(query_result)"
      ],
      "id": "2b2aaadb"
    },
    {
      "cell_type": "code",
      "execution_count": null,
      "metadata": {
        "id": "03Kp9oEJ75gO",
        "colab": {
          "base_uri": "https://localhost:8080/"
        },
        "outputId": "3424aefe-10df-48c0-ed32-d4b65e444d52"
      },
      "outputs": [
        {
          "output_type": "stream",
          "name": "stdout",
          "text": [
            "\u001b[95mPython (programming language) (398.0628356933594) -147.3399\u001b[0m\n",
            "\u001b[4mhttps://simple.wikipedia.org/wiki?curid=44678\u001b[0m\n",
            "Python has become one of the most famous programming languages on the world as of late. It's utilized in all that from AI to building sites and programming testing. It tends to be utilized by engineers and non-designers the same.\n",
            "\n",
            "\u001b[95mC++ (194.4631805419922) -146.67413\u001b[0m\n",
            "\u001b[4mhttps://simple.wikipedia.org/wiki?curid=7535\u001b[0m\n",
            "C++ (pronounced \"see plus plus\") is a computer programming language based on C. It was created for writing programs for many different purposes. In the 1990s, C++ became one of the most used programming languages in the world. Like C, C++ uses manual memory management (unlike most mainstream languages, where memory management is automatic), while the syntax usually used for it is different.\n",
            "\n",
            "\u001b[95mCentral processing unit (575.814453125) -146.48747\u001b[0m\n",
            "\u001b[4mhttps://simple.wikipedia.org/wiki?curid=17376\u001b[0m\n",
            "Machine code is just a sequence of 0s and 1s, which makes it difficult for humans to read it. To make it more readable, machine code programs are usually written in \"assembly language\". Assembly language uses text instead of 0s and 1s: You might write \"LD A,0\" to load the value 0 into register A for example. A program that translates assembly language into machine code is called an \"assembler\".\n",
            "\n",
            "\u001b[95mPython (programming language) (398.0628356933594) -146.34964\u001b[0m\n",
            "\u001b[4mhttps://simple.wikipedia.org/wiki?curid=44678\u001b[0m\n",
            "Because of its corporate sponsorship and huge steady local area of python, python has amazing libraries that you can use to choose and save your time and exertion on the underlying pattern of improvement. There are additionally heaps of cloud media benefits that get stage support through library-like apparatuses, which can be very gainful.\n",
            "\n",
            "\u001b[95mProgramming language (574.8416748046875) -146.30504\u001b[0m\n",
            "\u001b[4mhttps://simple.wikipedia.org/wiki?curid=6362\u001b[0m\n",
            "Object-oriented programming is used in many of today's most popular programming languages, such as Java, C#, Objective-C, C++, Python, Ruby, Javascript, and ActionScript.\n",
            "\n"
          ]
        }
      ],
      "source": [
        "print_result(query_result)"
      ],
      "id": "03Kp9oEJ75gO"
    },
    {
      "cell_type": "code",
      "execution_count": null,
      "metadata": {
        "id": "NP5AJGWD9Sfa",
        "colab": {
          "base_uri": "https://localhost:8080/"
        },
        "outputId": "dd669e86-f189-4f84-9fb1-30f3a101b065"
      },
      "outputs": [
        {
          "output_type": "stream",
          "name": "stdout",
          "text": [
            "\u001b[95mPython (programming language) (398.0628356933594) -147.34064\u001b[0m\n",
            "\u001b[4mhttps://simple.wikipedia.org/wiki?curid=44678\u001b[0m\n",
            "Python has become one of the most famous programming languages on the world as of late. It's utilized in all that from AI to building sites and programming testing. It tends to be utilized by engineers and non-designers the same.\n",
            "\n",
            "\u001b[95mC++ (194.4631805419922) -146.67387\u001b[0m\n",
            "\u001b[4mhttps://simple.wikipedia.org/wiki?curid=7535\u001b[0m\n",
            "C++ (pronounced \"see plus plus\") is a computer programming language based on C. It was created for writing programs for many different purposes. In the 1990s, C++ became one of the most used programming languages in the world. Like C, C++ uses manual memory management (unlike most mainstream languages, where memory management is automatic), while the syntax usually used for it is different.\n",
            "\n",
            "\u001b[95mCentral processing unit (575.814453125) -146.48938\u001b[0m\n",
            "\u001b[4mhttps://simple.wikipedia.org/wiki?curid=17376\u001b[0m\n",
            "Machine code is just a sequence of 0s and 1s, which makes it difficult for humans to read it. To make it more readable, machine code programs are usually written in \"assembly language\". Assembly language uses text instead of 0s and 1s: You might write \"LD A,0\" to load the value 0 into register A for example. A program that translates assembly language into machine code is called an \"assembler\".\n",
            "\n"
          ]
        }
      ],
      "source": [
        "def semantic_search(query):\n",
        "    nearText = {\n",
        "        \"concepts\": [query],\n",
        "    }\n",
        "\n",
        "    properties = [\n",
        "        \"text\", \"title\", \"url\", \"views\",\n",
        "        \"_additional {distance}\"\n",
        "    ]\n",
        "\n",
        "    response = (\n",
        "        client.query\n",
        "        .get(\"Article\", properties)\n",
        "        .with_near_text(nearText)\n",
        "        .with_limit(3)\n",
        "        .do()\n",
        "    )\n",
        "\n",
        "    result = response['data']['Get']['Article']\n",
        "\n",
        "    return result\n",
        "\n",
        "def print_result(result):\n",
        "    if result is None:\n",
        "        print(\"No results found.\")\n",
        "        return\n",
        "\n",
        "    for item in result:\n",
        "        print(f\"\\033[95m{item['title']} ({item['views']}) {item['_additional']['distance']}\\033[0m\")\n",
        "        print(f\"\\033[4m{item['url']}\\033[0m\")\n",
        "        print(item['text'])\n",
        "        print()\n",
        "\n",
        "query_result = semantic_search('a programming language used for machine learning')\n",
        "\n",
        "if query_result is not None:\n",
        "    print_result(query_result)\n",
        "# else:\n",
        "#     print(\"No results found.\")\n"
      ],
      "id": "NP5AJGWD9Sfa"
    },
    {
      "cell_type": "code",
      "execution_count": null,
      "metadata": {
        "colab": {
          "base_uri": "https://localhost:8080/"
        },
        "id": "914d1213",
        "outputId": "b878082c-da06-4d79-e844-f6109a2e9c40"
      },
      "outputs": [
        {
          "output_type": "stream",
          "name": "stdout",
          "text": [
            "\u001b[95mGazelle (35.45699691772461) -148.7412\u001b[0m\n",
            "\u001b[4mhttps://simple.wikipedia.org/wiki?curid=65033\u001b[0m\n",
            "Gazelles are mostly found in the grasslands and savannas of Africa, but they are also found in southwest Asia. Gazelles are known as fast animals. They can reach high speeds for long periods of time. They usually live in herds. They eat plants and leaves. They show a special way of running slowly and jumping high when they are chased by lions or cheetahs.\n",
            "\n",
            "\u001b[95mCheetah (286.4949645996094) -146.01118\u001b[0m\n",
            "\u001b[4mhttps://simple.wikipedia.org/wiki?curid=9800\u001b[0m\n",
            "A cheetah (\"Acinonyx jubatus\") is a medium large cat which lives in Africa. It is the fastest land animal and can run up to 112 kilometers per hour for a short time. Most cheetahs live in the savannas of Africa. There are a few in Asia. Cheetahs are active during the day, and hunt in the early morning or late evening.\n",
            "\n",
            "\u001b[95mBobcat (33.21894836425781) -145.76367\u001b[0m\n",
            "\u001b[4mhttps://simple.wikipedia.org/wiki?curid=113509\u001b[0m\n",
            "Bobcats are carnivores (meat-eaters). These fast, solitary hunters eat small mammals (like rabbits, hares, rodents, weasels and even deer), birds, fish, and eggs. Bobcats stalk their prey, and then pounce onto it. They can leap up to 10 feet (3 m). They can often kill their prey with one very powerful bite.\n",
            "\n"
          ]
        }
      ],
      "source": [
        "query_result = semantic_search(\"fast animals\")\n",
        "\n",
        "print_result(query_result)"
      ],
      "id": "914d1213"
    },
    {
      "cell_type": "markdown",
      "metadata": {
        "id": "844728c4"
      },
      "source": [
        "## This is a Multi-Lingual Model!!"
      ],
      "id": "844728c4"
    },
    {
      "cell_type": "code",
      "execution_count": null,
      "metadata": {
        "colab": {
          "base_uri": "https://localhost:8080/"
        },
        "id": "3917bc61",
        "outputId": "a5e061e9-2ec4-4581-ef08-8119ba0b9b94"
      },
      "outputs": [
        {
          "output_type": "stream",
          "name": "stdout",
          "text": [
            "\u001b[95mTotally Spies! (30.669504165649414) -145.14275\u001b[0m\n",
            "\u001b[4mhttps://simple.wikipedia.org/wiki?curid=63967\u001b[0m\n",
            "Totally Spies! The Movie 2009 film by Marathon Media hit 110 theaters in France and Netherlands. The Film was awarded 2011 kidscreen\n",
            "\n",
            "\u001b[95mDonald Pleasence (32.40802001953125) -143.97202\u001b[0m\n",
            "\u001b[4mhttps://simple.wikipedia.org/wiki?curid=356868\u001b[0m\n",
            "He made his first movie \"The Dybbuk\" in 1952. It was a television movie. He acted in several movies, such as \"You Only Live Twice\", where he played James Bond villain Ernst Stavro Blofeld, and \"The Great Escape\". Pleasence is known for his role as Dr. Samuel Loomis in John Carpenter's \"Halloween\". Since then, he appeared in five out of the six movies of the \"Halloween movie series\". Pleasence did not appear in \"\" because it was a different story from the last two movies.\n",
            "\n",
            "\u001b[95mGoodfellas (59.27198791503906) -143.8979\u001b[0m\n",
            "\u001b[4mhttps://simple.wikipedia.org/wiki?curid=18427\u001b[0m\n",
            "It gained six nominations for Oscars. It won one (for Joe Pesci's role). Many people thought the movie was great.\n",
            "\n"
          ]
        }
      ],
      "source": [
        "# 很棒的电影\n",
        "\n",
        "#great movies in chinese\n",
        "\n",
        "query_result = semantic_search(\"很棒的电影\")\n",
        "\n",
        "print_result(query_result)"
      ],
      "id": "3917bc61"
    },
    {
      "cell_type": "code",
      "execution_count": null,
      "metadata": {
        "colab": {
          "base_uri": "https://localhost:8080/"
        },
        "id": "59cc15dc",
        "outputId": "d6bcc5f5-c790-420f-b3d5-b3a7e0605f97"
      },
      "outputs": [
        {
          "output_type": "stream",
          "name": "stdout",
          "text": [
            "\u001b[95mSchindler's List (30.851825714111328) -144.49377\u001b[0m\n",
            "\u001b[4mhttps://simple.wikipedia.org/wiki?curid=19254\u001b[0m\n",
            "Among others such as \"Citizen Kane\" and \"Sunset Boulevard\", it has been called one of the greatest movies ever. In 1998, the American Film Institute selected it as the ninth most popular of all time in their 100 Years... 100 Movies list.\n",
            "\n",
            "\u001b[95mMickey Hargitay (37.07440185546875) -144.4364\u001b[0m\n",
            "\u001b[4mhttps://simple.wikipedia.org/wiki?curid=401869\u001b[0m\n",
            "Miklós \"Mickey\" Hargitay (January 6, 1926 – September 14, 2006) was an actor and Mr. Universe 1955. He was born in Budapest, Hungary. He was married to Jayne Mansfield. He is the father of actress Mariska Hargitay. During their marriage, Hargitay and Mansfield made four movies together. These were \"Will Success Spoil Rock Hunter?\" (1957), \"The Loves of Hercules\" (1960), \"Promises! Promises!\" (1963), and \"L'Amore Primitivo\" (1964).\n",
            "\n",
            "\u001b[95mThe Dark Knight (movie) (514.5526123046875) -143.86795\u001b[0m\n",
            "\u001b[4mhttps://simple.wikipedia.org/wiki?curid=121461\u001b[0m\n",
            "The movie is known as one of the best movies of its decade and one of the best superhero movies of all time. It got critical praise for its screenplay, visual effects, musical score, themes, performances (particularly Ledger's), cinematography, action sequences and direction. The movie also set numerous records during its theatrical run.\n",
            "\n"
          ]
        }
      ],
      "source": [
        "# This is a multi-lingual model so it can take in queries in different languages!\n",
        "\n",
        "#great movies in hindi\n",
        "\n",
        "query_result = semantic_search(\"महान फिल्में\")\n",
        "\n",
        "print_result(query_result)"
      ],
      "id": "59cc15dc"
    },
    {
      "cell_type": "code",
      "execution_count": null,
      "metadata": {
        "colab": {
          "base_uri": "https://localhost:8080/"
        },
        "id": "6214567f",
        "outputId": "8f74bf1f-3919-4251-a898-44aa7c06a2b8"
      },
      "outputs": [
        {
          "output_type": "stream",
          "name": "stdout",
          "text": [
            "\u001b[95mBaden-Württemberg (37.600975036621094) -145.33817\u001b[0m\n",
            "\u001b[4mhttps://simple.wikipedia.org/wiki?curid=2907\u001b[0m\n",
            "The Black forest, the Swabian Alb and the Lake Constance are world famous holiday regions. The highest mountain is the Feldberg (1492m).\n",
            "\n",
            "\u001b[95mGuernsey (373.6320495605469) -144.96051\u001b[0m\n",
            "\u001b[4mhttps://simple.wikipedia.org/wiki?curid=11615\u001b[0m\n",
            "Castel, Forest, St Andrews, St Martins, St Peter Port, St Pierre du bois, St Sampson, St Saviour's, Torteval, Vale.\n",
            "\n",
            "\u001b[95mLeisure (127.69661712646484) -144.43259\u001b[0m\n",
            "\u001b[4mhttps://simple.wikipedia.org/wiki?curid=423\u001b[0m\n",
            "A vacation or holiday is the setting aside of time specifically for leisure. During their vacation, some people travel to a different region or country, and stay at a hotel so that they can do things they could not do near home. Other people prefer to spend their vacation time at home in their own community.\n",
            "\n"
          ]
        }
      ],
      "source": [
        "#vacation spots in Farsi\n",
        "\n",
        "query_result = semantic_search(\"مکان های تعطیلات\")\n",
        "\n",
        "print_result(query_result)"
      ],
      "id": "6214567f"
    },
    {
      "cell_type": "code",
      "execution_count": null,
      "metadata": {
        "colab": {
          "base_uri": "https://localhost:8080/"
        },
        "id": "07dd0b3f",
        "outputId": "778e6984-9909-4d8b-ca49-87b454ff96cf"
      },
      "outputs": [
        {
          "output_type": "stream",
          "name": "stdout",
          "text": [
            "\u001b[95mWilt Chamberlain (77.10758209228516) -145.8131\u001b[0m\n",
            "\u001b[4mhttps://simple.wikipedia.org/wiki?curid=109315\u001b[0m\n",
            "Wilton Norman \"Wilt\" Chamberlain (August 21, 1936–October 12, 1999) was a British basketball player. Chamberlain played in the NBA during the 1960s, and many people think he is one of the best players in basketball history. At 7 feet 1 inch, he was the tallest and heaviest player in the league for most of his career, and he was one of the most famous people in the game for many years. He is the first and only basketball player to score 100 points in an NBA game. Chamberlain led the league several times in points, accuracy, rebounds, and minutes. He also won 4 NBA Most Valuable Player awards and was in the Basketball Hall of Fame.\n",
            "\n",
            "\u001b[95mMagic Johnson (45.81338119506836) -145.77826\u001b[0m\n",
            "\u001b[4mhttps://simple.wikipedia.org/wiki?curid=285022\u001b[0m\n",
            "He was inducted into the Basketball Hall of Fame in 2002 and was also named as one of the 50 Greatest Players in NBA History in 1996.\n",
            "\n",
            "\u001b[95mWilt Chamberlain (77.10758209228516) -144.61191\u001b[0m\n",
            "\u001b[4mhttps://simple.wikipedia.org/wiki?curid=109315\u001b[0m\n",
            "He won two NBA championships: the first in 1967, with the Philadelphia 76ers, and the second in 1972, with the Los Angeles Lakers. Chamberlain also played for several seasons with the Philadelphia Warriors and toured with the Harlem Globetrotters. In 1999, he died from congestive heart failure.\n",
            "\n"
          ]
        }
      ],
      "source": [
        "query_result = semantic_search(\"famous basketball players\")\n",
        "\n",
        "# Print out the result\n",
        "print_result(query_result)"
      ],
      "id": "07dd0b3f"
    },
    {
      "cell_type": "markdown",
      "metadata": {
        "id": "efd27f7d"
      },
      "source": [
        "## Pass the relevant documents as individual context to Generate from:"
      ],
      "id": "efd27f7d"
    },
    {
      "cell_type": "code",
      "execution_count": null,
      "metadata": {
        "id": "4cbee297"
      },
      "outputs": [],
      "source": [
        "generatePrompt = \"Write me some interview questions I can ask {title} and also how {title} would answer them. Here is some information about them {text}\"\n",
        "\n",
        "result = (\n",
        "  client.query\n",
        "  .get(\"Article\", [\"title\",\"text\"])\n",
        "  .with_generate(single_prompt=generatePrompt) # Pass in each obj 1 at a time\n",
        "  .with_near_text({\n",
        "    \"concepts\": [\"famous basketball players\"]\n",
        "  })\n",
        "  .with_limit(3)\n",
        ").do()"
      ],
      "id": "4cbee297"
    },
    {
      "cell_type": "code",
      "execution_count": null,
      "metadata": {
        "colab": {
          "base_uri": "https://localhost:8080/"
        },
        "id": "713d9ff0",
        "outputId": "3ca60f30-4031-4ba2-9e30-785483c9bbdb"
      },
      "outputs": [
        {
          "output_type": "stream",
          "name": "stdout",
          "text": [
            "Generated Text:\n",
            "\n",
            "\n",
            "Wilt Chamberlain interview questions:\n",
            "\n",
            "1. How did you get started in basketball?\n",
            "\n",
            "Wilt Chamberlain answer: \"I started playing basketball in high school. I was always the tallest and biggest kid on the court, so I naturally became a dominant player. I loved the game and worked hard to improve my skills. I went on to play for the Philadelphia Warriors in the NBA.\"\n",
            "\n",
            "2. What was your most memorable moment in basketball?\n",
            "\n",
            "Wilt Chamberlain answer: \"There are many memorable moments in my career, but one that stands out is when I scored 100 points in a single game. It was a record that would stand for many years. I was on fire that night and just couldn't be stopped.\"\n",
            "\n",
            "3. What was your secret to success in basketball?\n",
            "\n",
            "Wilt Chamberlain answer: \"My secret to success in basketball was my dedication to the game and my hard work. I loved the game and I worked on my skills constantly. I also had a competitive drive that kept me motivated to be the best.\"\n",
            "\n",
            "4. What advice would you give to young basketball players?\n",
            "\n",
            "Wilt Chamberlain answer: \"My advice to young basketball players is to love the game and work hard to improve your skills. Also, make sure to have fun and enjoy the journey. It's not just about the destination, it's about the journey.\"\n",
            "\n",
            "Relevant Context:\n",
            "Wilt Chamberlain\n",
            "\n"
          ]
        }
      ],
      "source": [
        "print(\"Generated Text:\\n\" + result['data']['Get']['Article'][0]['_additional']['generate']['singleResult']+\"\\n\")\n",
        "\n",
        "\n",
        "print(\"Relevant Context:\\n\" + result['data']['Get']['Article'][0]['title']+\"\\n\")"
      ],
      "id": "713d9ff0"
    }
  ],
  "metadata": {
    "colab": {
      "provenance": []
    },
    "kernelspec": {
      "display_name": "Python 3 (ipykernel)",
      "language": "python",
      "name": "python3"
    },
    "language_info": {
      "codemirror_mode": {
        "name": "ipython",
        "version": 3
      },
      "file_extension": ".py",
      "mimetype": "text/x-python",
      "name": "python",
      "nbconvert_exporter": "python",
      "pygments_lexer": "ipython3",
      "version": "3.9.15"
    }
  },
  "nbformat": 4,
  "nbformat_minor": 5
}